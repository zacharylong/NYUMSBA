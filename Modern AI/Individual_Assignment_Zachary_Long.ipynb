{
  "cells": [
    {
      "cell_type": "markdown",
      "source": [
        "Modern AI Post Module\n",
        "\n",
        "Zachary Long\n",
        "zwl216"
      ],
      "metadata": {
        "id": "7mYLPMgyb3Ac"
      }
    },
    {
      "cell_type": "markdown",
      "source": [
        "This notebook provides necessary code and instructions for the independent exercises, including two big problems. **You only have to complete all of the blanks that are marked as ``TODO\" in this notebook.**  Please submit the completed .ipynb file as your homework submission (with your name and ID here).\n",
        "\n",
        "Zachary Long\n",
        "zwl216"
      ],
      "metadata": {
        "id": "fxAF2jbRA3WY"
      }
    },
    {
      "cell_type": "markdown",
      "source": [
        "# Problem 1: Predicting Breast Cancer using Deep Neural Networks with Python"
      ],
      "metadata": {
        "id": "zyNdUQeXbjdL"
      }
    },
    {
      "cell_type": "markdown",
      "metadata": {
        "id": "jF365-n0EC-q"
      },
      "source": [
        "#*Import Libraries and Load the Data*"
      ]
    },
    {
      "cell_type": "code",
      "execution_count": 1,
      "metadata": {
        "id": "a2ab2j0wz3oA",
        "colab": {
          "base_uri": "https://localhost:8080/",
          "height": 384
        },
        "outputId": "0ef2734e-436a-4cd5-902c-80db7b6e1298"
      },
      "outputs": [
        {
          "output_type": "execute_result",
          "data": {
            "text/plain": [
              "       mean radius  mean texture  mean perimeter    mean area  \\\n",
              "count   569.000000    569.000000      569.000000   569.000000   \n",
              "mean     14.127292     19.289649       91.969033   654.889104   \n",
              "std       3.524049      4.301036       24.298981   351.914129   \n",
              "min       6.981000      9.710000       43.790000   143.500000   \n",
              "25%      11.700000     16.170000       75.170000   420.300000   \n",
              "50%      13.370000     18.840000       86.240000   551.100000   \n",
              "75%      15.780000     21.800000      104.100000   782.700000   \n",
              "max      28.110000     39.280000      188.500000  2501.000000   \n",
              "\n",
              "       mean smoothness  mean compactness  mean concavity  mean concave points  \\\n",
              "count       569.000000        569.000000      569.000000           569.000000   \n",
              "mean          0.096360          0.104341        0.088799             0.048919   \n",
              "std           0.014064          0.052813        0.079720             0.038803   \n",
              "min           0.052630          0.019380        0.000000             0.000000   \n",
              "25%           0.086370          0.064920        0.029560             0.020310   \n",
              "50%           0.095870          0.092630        0.061540             0.033500   \n",
              "75%           0.105300          0.130400        0.130700             0.074000   \n",
              "max           0.163400          0.345400        0.426800             0.201200   \n",
              "\n",
              "       mean symmetry  mean fractal dimension  ...  worst texture  \\\n",
              "count     569.000000              569.000000  ...     569.000000   \n",
              "mean        0.181162                0.062798  ...      25.677223   \n",
              "std         0.027414                0.007060  ...       6.146258   \n",
              "min         0.106000                0.049960  ...      12.020000   \n",
              "25%         0.161900                0.057700  ...      21.080000   \n",
              "50%         0.179200                0.061540  ...      25.410000   \n",
              "75%         0.195700                0.066120  ...      29.720000   \n",
              "max         0.304000                0.097440  ...      49.540000   \n",
              "\n",
              "       worst perimeter   worst area  worst smoothness  worst compactness  \\\n",
              "count       569.000000   569.000000        569.000000         569.000000   \n",
              "mean        107.261213   880.583128          0.132369           0.254265   \n",
              "std          33.602542   569.356993          0.022832           0.157336   \n",
              "min          50.410000   185.200000          0.071170           0.027290   \n",
              "25%          84.110000   515.300000          0.116600           0.147200   \n",
              "50%          97.660000   686.500000          0.131300           0.211900   \n",
              "75%         125.400000  1084.000000          0.146000           0.339100   \n",
              "max         251.200000  4254.000000          0.222600           1.058000   \n",
              "\n",
              "       worst concavity  worst concave points  worst symmetry  \\\n",
              "count       569.000000            569.000000      569.000000   \n",
              "mean          0.272188              0.114606        0.290076   \n",
              "std           0.208624              0.065732        0.061867   \n",
              "min           0.000000              0.000000        0.156500   \n",
              "25%           0.114500              0.064930        0.250400   \n",
              "50%           0.226700              0.099930        0.282200   \n",
              "75%           0.382900              0.161400        0.317900   \n",
              "max           1.252000              0.291000        0.663800   \n",
              "\n",
              "       worst fractal dimension      target  \n",
              "count               569.000000  569.000000  \n",
              "mean                  0.083946    0.627417  \n",
              "std                   0.018061    0.483918  \n",
              "min                   0.055040    0.000000  \n",
              "25%                   0.071460    0.000000  \n",
              "50%                   0.080040    1.000000  \n",
              "75%                   0.092080    1.000000  \n",
              "max                   0.207500    1.000000  \n",
              "\n",
              "[8 rows x 31 columns]"
            ],
            "text/html": [
              "\n",
              "  <div id=\"df-6057161e-0f6e-4044-9b2b-22cc5d7565b2\" class=\"colab-df-container\">\n",
              "    <div>\n",
              "<style scoped>\n",
              "    .dataframe tbody tr th:only-of-type {\n",
              "        vertical-align: middle;\n",
              "    }\n",
              "\n",
              "    .dataframe tbody tr th {\n",
              "        vertical-align: top;\n",
              "    }\n",
              "\n",
              "    .dataframe thead th {\n",
              "        text-align: right;\n",
              "    }\n",
              "</style>\n",
              "<table border=\"1\" class=\"dataframe\">\n",
              "  <thead>\n",
              "    <tr style=\"text-align: right;\">\n",
              "      <th></th>\n",
              "      <th>mean radius</th>\n",
              "      <th>mean texture</th>\n",
              "      <th>mean perimeter</th>\n",
              "      <th>mean area</th>\n",
              "      <th>mean smoothness</th>\n",
              "      <th>mean compactness</th>\n",
              "      <th>mean concavity</th>\n",
              "      <th>mean concave points</th>\n",
              "      <th>mean symmetry</th>\n",
              "      <th>mean fractal dimension</th>\n",
              "      <th>...</th>\n",
              "      <th>worst texture</th>\n",
              "      <th>worst perimeter</th>\n",
              "      <th>worst area</th>\n",
              "      <th>worst smoothness</th>\n",
              "      <th>worst compactness</th>\n",
              "      <th>worst concavity</th>\n",
              "      <th>worst concave points</th>\n",
              "      <th>worst symmetry</th>\n",
              "      <th>worst fractal dimension</th>\n",
              "      <th>target</th>\n",
              "    </tr>\n",
              "  </thead>\n",
              "  <tbody>\n",
              "    <tr>\n",
              "      <th>count</th>\n",
              "      <td>569.000000</td>\n",
              "      <td>569.000000</td>\n",
              "      <td>569.000000</td>\n",
              "      <td>569.000000</td>\n",
              "      <td>569.000000</td>\n",
              "      <td>569.000000</td>\n",
              "      <td>569.000000</td>\n",
              "      <td>569.000000</td>\n",
              "      <td>569.000000</td>\n",
              "      <td>569.000000</td>\n",
              "      <td>...</td>\n",
              "      <td>569.000000</td>\n",
              "      <td>569.000000</td>\n",
              "      <td>569.000000</td>\n",
              "      <td>569.000000</td>\n",
              "      <td>569.000000</td>\n",
              "      <td>569.000000</td>\n",
              "      <td>569.000000</td>\n",
              "      <td>569.000000</td>\n",
              "      <td>569.000000</td>\n",
              "      <td>569.000000</td>\n",
              "    </tr>\n",
              "    <tr>\n",
              "      <th>mean</th>\n",
              "      <td>14.127292</td>\n",
              "      <td>19.289649</td>\n",
              "      <td>91.969033</td>\n",
              "      <td>654.889104</td>\n",
              "      <td>0.096360</td>\n",
              "      <td>0.104341</td>\n",
              "      <td>0.088799</td>\n",
              "      <td>0.048919</td>\n",
              "      <td>0.181162</td>\n",
              "      <td>0.062798</td>\n",
              "      <td>...</td>\n",
              "      <td>25.677223</td>\n",
              "      <td>107.261213</td>\n",
              "      <td>880.583128</td>\n",
              "      <td>0.132369</td>\n",
              "      <td>0.254265</td>\n",
              "      <td>0.272188</td>\n",
              "      <td>0.114606</td>\n",
              "      <td>0.290076</td>\n",
              "      <td>0.083946</td>\n",
              "      <td>0.627417</td>\n",
              "    </tr>\n",
              "    <tr>\n",
              "      <th>std</th>\n",
              "      <td>3.524049</td>\n",
              "      <td>4.301036</td>\n",
              "      <td>24.298981</td>\n",
              "      <td>351.914129</td>\n",
              "      <td>0.014064</td>\n",
              "      <td>0.052813</td>\n",
              "      <td>0.079720</td>\n",
              "      <td>0.038803</td>\n",
              "      <td>0.027414</td>\n",
              "      <td>0.007060</td>\n",
              "      <td>...</td>\n",
              "      <td>6.146258</td>\n",
              "      <td>33.602542</td>\n",
              "      <td>569.356993</td>\n",
              "      <td>0.022832</td>\n",
              "      <td>0.157336</td>\n",
              "      <td>0.208624</td>\n",
              "      <td>0.065732</td>\n",
              "      <td>0.061867</td>\n",
              "      <td>0.018061</td>\n",
              "      <td>0.483918</td>\n",
              "    </tr>\n",
              "    <tr>\n",
              "      <th>min</th>\n",
              "      <td>6.981000</td>\n",
              "      <td>9.710000</td>\n",
              "      <td>43.790000</td>\n",
              "      <td>143.500000</td>\n",
              "      <td>0.052630</td>\n",
              "      <td>0.019380</td>\n",
              "      <td>0.000000</td>\n",
              "      <td>0.000000</td>\n",
              "      <td>0.106000</td>\n",
              "      <td>0.049960</td>\n",
              "      <td>...</td>\n",
              "      <td>12.020000</td>\n",
              "      <td>50.410000</td>\n",
              "      <td>185.200000</td>\n",
              "      <td>0.071170</td>\n",
              "      <td>0.027290</td>\n",
              "      <td>0.000000</td>\n",
              "      <td>0.000000</td>\n",
              "      <td>0.156500</td>\n",
              "      <td>0.055040</td>\n",
              "      <td>0.000000</td>\n",
              "    </tr>\n",
              "    <tr>\n",
              "      <th>25%</th>\n",
              "      <td>11.700000</td>\n",
              "      <td>16.170000</td>\n",
              "      <td>75.170000</td>\n",
              "      <td>420.300000</td>\n",
              "      <td>0.086370</td>\n",
              "      <td>0.064920</td>\n",
              "      <td>0.029560</td>\n",
              "      <td>0.020310</td>\n",
              "      <td>0.161900</td>\n",
              "      <td>0.057700</td>\n",
              "      <td>...</td>\n",
              "      <td>21.080000</td>\n",
              "      <td>84.110000</td>\n",
              "      <td>515.300000</td>\n",
              "      <td>0.116600</td>\n",
              "      <td>0.147200</td>\n",
              "      <td>0.114500</td>\n",
              "      <td>0.064930</td>\n",
              "      <td>0.250400</td>\n",
              "      <td>0.071460</td>\n",
              "      <td>0.000000</td>\n",
              "    </tr>\n",
              "    <tr>\n",
              "      <th>50%</th>\n",
              "      <td>13.370000</td>\n",
              "      <td>18.840000</td>\n",
              "      <td>86.240000</td>\n",
              "      <td>551.100000</td>\n",
              "      <td>0.095870</td>\n",
              "      <td>0.092630</td>\n",
              "      <td>0.061540</td>\n",
              "      <td>0.033500</td>\n",
              "      <td>0.179200</td>\n",
              "      <td>0.061540</td>\n",
              "      <td>...</td>\n",
              "      <td>25.410000</td>\n",
              "      <td>97.660000</td>\n",
              "      <td>686.500000</td>\n",
              "      <td>0.131300</td>\n",
              "      <td>0.211900</td>\n",
              "      <td>0.226700</td>\n",
              "      <td>0.099930</td>\n",
              "      <td>0.282200</td>\n",
              "      <td>0.080040</td>\n",
              "      <td>1.000000</td>\n",
              "    </tr>\n",
              "    <tr>\n",
              "      <th>75%</th>\n",
              "      <td>15.780000</td>\n",
              "      <td>21.800000</td>\n",
              "      <td>104.100000</td>\n",
              "      <td>782.700000</td>\n",
              "      <td>0.105300</td>\n",
              "      <td>0.130400</td>\n",
              "      <td>0.130700</td>\n",
              "      <td>0.074000</td>\n",
              "      <td>0.195700</td>\n",
              "      <td>0.066120</td>\n",
              "      <td>...</td>\n",
              "      <td>29.720000</td>\n",
              "      <td>125.400000</td>\n",
              "      <td>1084.000000</td>\n",
              "      <td>0.146000</td>\n",
              "      <td>0.339100</td>\n",
              "      <td>0.382900</td>\n",
              "      <td>0.161400</td>\n",
              "      <td>0.317900</td>\n",
              "      <td>0.092080</td>\n",
              "      <td>1.000000</td>\n",
              "    </tr>\n",
              "    <tr>\n",
              "      <th>max</th>\n",
              "      <td>28.110000</td>\n",
              "      <td>39.280000</td>\n",
              "      <td>188.500000</td>\n",
              "      <td>2501.000000</td>\n",
              "      <td>0.163400</td>\n",
              "      <td>0.345400</td>\n",
              "      <td>0.426800</td>\n",
              "      <td>0.201200</td>\n",
              "      <td>0.304000</td>\n",
              "      <td>0.097440</td>\n",
              "      <td>...</td>\n",
              "      <td>49.540000</td>\n",
              "      <td>251.200000</td>\n",
              "      <td>4254.000000</td>\n",
              "      <td>0.222600</td>\n",
              "      <td>1.058000</td>\n",
              "      <td>1.252000</td>\n",
              "      <td>0.291000</td>\n",
              "      <td>0.663800</td>\n",
              "      <td>0.207500</td>\n",
              "      <td>1.000000</td>\n",
              "    </tr>\n",
              "  </tbody>\n",
              "</table>\n",
              "<p>8 rows × 31 columns</p>\n",
              "</div>\n",
              "    <div class=\"colab-df-buttons\">\n",
              "\n",
              "  <div class=\"colab-df-container\">\n",
              "    <button class=\"colab-df-convert\" onclick=\"convertToInteractive('df-6057161e-0f6e-4044-9b2b-22cc5d7565b2')\"\n",
              "            title=\"Convert this dataframe to an interactive table.\"\n",
              "            style=\"display:none;\">\n",
              "\n",
              "  <svg xmlns=\"http://www.w3.org/2000/svg\" height=\"24px\" viewBox=\"0 -960 960 960\">\n",
              "    <path d=\"M120-120v-720h720v720H120Zm60-500h600v-160H180v160Zm220 220h160v-160H400v160Zm0 220h160v-160H400v160ZM180-400h160v-160H180v160Zm440 0h160v-160H620v160ZM180-180h160v-160H180v160Zm440 0h160v-160H620v160Z\"/>\n",
              "  </svg>\n",
              "    </button>\n",
              "\n",
              "  <style>\n",
              "    .colab-df-container {\n",
              "      display:flex;\n",
              "      gap: 12px;\n",
              "    }\n",
              "\n",
              "    .colab-df-convert {\n",
              "      background-color: #E8F0FE;\n",
              "      border: none;\n",
              "      border-radius: 50%;\n",
              "      cursor: pointer;\n",
              "      display: none;\n",
              "      fill: #1967D2;\n",
              "      height: 32px;\n",
              "      padding: 0 0 0 0;\n",
              "      width: 32px;\n",
              "    }\n",
              "\n",
              "    .colab-df-convert:hover {\n",
              "      background-color: #E2EBFA;\n",
              "      box-shadow: 0px 1px 2px rgba(60, 64, 67, 0.3), 0px 1px 3px 1px rgba(60, 64, 67, 0.15);\n",
              "      fill: #174EA6;\n",
              "    }\n",
              "\n",
              "    .colab-df-buttons div {\n",
              "      margin-bottom: 4px;\n",
              "    }\n",
              "\n",
              "    [theme=dark] .colab-df-convert {\n",
              "      background-color: #3B4455;\n",
              "      fill: #D2E3FC;\n",
              "    }\n",
              "\n",
              "    [theme=dark] .colab-df-convert:hover {\n",
              "      background-color: #434B5C;\n",
              "      box-shadow: 0px 1px 3px 1px rgba(0, 0, 0, 0.15);\n",
              "      filter: drop-shadow(0px 1px 2px rgba(0, 0, 0, 0.3));\n",
              "      fill: #FFFFFF;\n",
              "    }\n",
              "  </style>\n",
              "\n",
              "    <script>\n",
              "      const buttonEl =\n",
              "        document.querySelector('#df-6057161e-0f6e-4044-9b2b-22cc5d7565b2 button.colab-df-convert');\n",
              "      buttonEl.style.display =\n",
              "        google.colab.kernel.accessAllowed ? 'block' : 'none';\n",
              "\n",
              "      async function convertToInteractive(key) {\n",
              "        const element = document.querySelector('#df-6057161e-0f6e-4044-9b2b-22cc5d7565b2');\n",
              "        const dataTable =\n",
              "          await google.colab.kernel.invokeFunction('convertToInteractive',\n",
              "                                                    [key], {});\n",
              "        if (!dataTable) return;\n",
              "\n",
              "        const docLinkHtml = 'Like what you see? Visit the ' +\n",
              "          '<a target=\"_blank\" href=https://colab.research.google.com/notebooks/data_table.ipynb>data table notebook</a>'\n",
              "          + ' to learn more about interactive tables.';\n",
              "        element.innerHTML = '';\n",
              "        dataTable['output_type'] = 'display_data';\n",
              "        await google.colab.output.renderOutput(dataTable, element);\n",
              "        const docLink = document.createElement('div');\n",
              "        docLink.innerHTML = docLinkHtml;\n",
              "        element.appendChild(docLink);\n",
              "      }\n",
              "    </script>\n",
              "  </div>\n",
              "\n",
              "\n",
              "<div id=\"df-ce43dbe7-e6d8-4b45-a0f1-49efcd290117\">\n",
              "  <button class=\"colab-df-quickchart\" onclick=\"quickchart('df-ce43dbe7-e6d8-4b45-a0f1-49efcd290117')\"\n",
              "            title=\"Suggest charts\"\n",
              "            style=\"display:none;\">\n",
              "\n",
              "<svg xmlns=\"http://www.w3.org/2000/svg\" height=\"24px\"viewBox=\"0 0 24 24\"\n",
              "     width=\"24px\">\n",
              "    <g>\n",
              "        <path d=\"M19 3H5c-1.1 0-2 .9-2 2v14c0 1.1.9 2 2 2h14c1.1 0 2-.9 2-2V5c0-1.1-.9-2-2-2zM9 17H7v-7h2v7zm4 0h-2V7h2v10zm4 0h-2v-4h2v4z\"/>\n",
              "    </g>\n",
              "</svg>\n",
              "  </button>\n",
              "\n",
              "<style>\n",
              "  .colab-df-quickchart {\n",
              "      --bg-color: #E8F0FE;\n",
              "      --fill-color: #1967D2;\n",
              "      --hover-bg-color: #E2EBFA;\n",
              "      --hover-fill-color: #174EA6;\n",
              "      --disabled-fill-color: #AAA;\n",
              "      --disabled-bg-color: #DDD;\n",
              "  }\n",
              "\n",
              "  [theme=dark] .colab-df-quickchart {\n",
              "      --bg-color: #3B4455;\n",
              "      --fill-color: #D2E3FC;\n",
              "      --hover-bg-color: #434B5C;\n",
              "      --hover-fill-color: #FFFFFF;\n",
              "      --disabled-bg-color: #3B4455;\n",
              "      --disabled-fill-color: #666;\n",
              "  }\n",
              "\n",
              "  .colab-df-quickchart {\n",
              "    background-color: var(--bg-color);\n",
              "    border: none;\n",
              "    border-radius: 50%;\n",
              "    cursor: pointer;\n",
              "    display: none;\n",
              "    fill: var(--fill-color);\n",
              "    height: 32px;\n",
              "    padding: 0;\n",
              "    width: 32px;\n",
              "  }\n",
              "\n",
              "  .colab-df-quickchart:hover {\n",
              "    background-color: var(--hover-bg-color);\n",
              "    box-shadow: 0 1px 2px rgba(60, 64, 67, 0.3), 0 1px 3px 1px rgba(60, 64, 67, 0.15);\n",
              "    fill: var(--button-hover-fill-color);\n",
              "  }\n",
              "\n",
              "  .colab-df-quickchart-complete:disabled,\n",
              "  .colab-df-quickchart-complete:disabled:hover {\n",
              "    background-color: var(--disabled-bg-color);\n",
              "    fill: var(--disabled-fill-color);\n",
              "    box-shadow: none;\n",
              "  }\n",
              "\n",
              "  .colab-df-spinner {\n",
              "    border: 2px solid var(--fill-color);\n",
              "    border-color: transparent;\n",
              "    border-bottom-color: var(--fill-color);\n",
              "    animation:\n",
              "      spin 1s steps(1) infinite;\n",
              "  }\n",
              "\n",
              "  @keyframes spin {\n",
              "    0% {\n",
              "      border-color: transparent;\n",
              "      border-bottom-color: var(--fill-color);\n",
              "      border-left-color: var(--fill-color);\n",
              "    }\n",
              "    20% {\n",
              "      border-color: transparent;\n",
              "      border-left-color: var(--fill-color);\n",
              "      border-top-color: var(--fill-color);\n",
              "    }\n",
              "    30% {\n",
              "      border-color: transparent;\n",
              "      border-left-color: var(--fill-color);\n",
              "      border-top-color: var(--fill-color);\n",
              "      border-right-color: var(--fill-color);\n",
              "    }\n",
              "    40% {\n",
              "      border-color: transparent;\n",
              "      border-right-color: var(--fill-color);\n",
              "      border-top-color: var(--fill-color);\n",
              "    }\n",
              "    60% {\n",
              "      border-color: transparent;\n",
              "      border-right-color: var(--fill-color);\n",
              "    }\n",
              "    80% {\n",
              "      border-color: transparent;\n",
              "      border-right-color: var(--fill-color);\n",
              "      border-bottom-color: var(--fill-color);\n",
              "    }\n",
              "    90% {\n",
              "      border-color: transparent;\n",
              "      border-bottom-color: var(--fill-color);\n",
              "    }\n",
              "  }\n",
              "</style>\n",
              "\n",
              "  <script>\n",
              "    async function quickchart(key) {\n",
              "      const quickchartButtonEl =\n",
              "        document.querySelector('#' + key + ' button');\n",
              "      quickchartButtonEl.disabled = true;  // To prevent multiple clicks.\n",
              "      quickchartButtonEl.classList.add('colab-df-spinner');\n",
              "      try {\n",
              "        const charts = await google.colab.kernel.invokeFunction(\n",
              "            'suggestCharts', [key], {});\n",
              "      } catch (error) {\n",
              "        console.error('Error during call to suggestCharts:', error);\n",
              "      }\n",
              "      quickchartButtonEl.classList.remove('colab-df-spinner');\n",
              "      quickchartButtonEl.classList.add('colab-df-quickchart-complete');\n",
              "    }\n",
              "    (() => {\n",
              "      let quickchartButtonEl =\n",
              "        document.querySelector('#df-ce43dbe7-e6d8-4b45-a0f1-49efcd290117 button');\n",
              "      quickchartButtonEl.style.display =\n",
              "        google.colab.kernel.accessAllowed ? 'block' : 'none';\n",
              "    })();\n",
              "  </script>\n",
              "</div>\n",
              "\n",
              "    </div>\n",
              "  </div>\n"
            ],
            "application/vnd.google.colaboratory.intrinsic+json": {
              "type": "dataframe"
            }
          },
          "metadata": {},
          "execution_count": 1
        }
      ],
      "source": [
        "import pandas as pd\n",
        "import numpy as np\n",
        "import tensorflow as tf\n",
        "from tensorflow import keras\n",
        "import matplotlib.pyplot as plt\n",
        "import sklearn.datasets as data\n",
        "from keras import layers\n",
        "\n",
        "cancer = data.load_breast_cancer()\n",
        "BreastCancer = pd.DataFrame(np.c_[cancer['data'], cancer['target']],\n",
        "                  columns= np.append(cancer['feature_names'], ['target']))\n",
        "BreastCancer.describe()"
      ]
    },
    {
      "cell_type": "markdown",
      "source": [
        "``BreastCancer`` has 569 rows and 31 columns, where each row represents a sample case, and each column represents a feature. All columns except 'target' represent different medical characteristics. The 'target' column indicates whether the tumor is benign or not. In our problem, we will use the target column as the label ``y`` (0 for benign and 1 for malignant), and all other features as predictors."
      ],
      "metadata": {
        "id": "ue5b0GCiQJJO"
      }
    },
    {
      "cell_type": "markdown",
      "metadata": {
        "id": "vhnwnEtEOeXd"
      },
      "source": [
        "#*Partition Data*"
      ]
    },
    {
      "cell_type": "markdown",
      "metadata": {
        "id": "RGYaiNdpoako"
      },
      "source": [
        "Now we are ready to do the train/test splitting. Randomly choose 70\\% of the samples to be the training set and let the rest be the test set."
      ]
    },
    {
      "cell_type": "code",
      "execution_count": 2,
      "metadata": {
        "id": "8JBFs2OXdZzU",
        "colab": {
          "base_uri": "https://localhost:8080/"
        },
        "outputId": "59549d9f-fb7d-46c2-b8f6-5302f40c1d71"
      },
      "outputs": [
        {
          "output_type": "stream",
          "name": "stdout",
          "text": [
            "398\n",
            "569\n"
          ]
        }
      ],
      "source": [
        "indices = np.random.permutation(BreastCancer.shape[0])\n",
        "train_n = int(np.floor(BreastCancer.shape[0]*0.7))\n",
        "print(train_n)\n",
        "print(BreastCancer.shape[0])\n",
        "\n",
        "train_idx, test_idx = indices[:train_n], indices[train_n:]\n",
        "train_x, test_x = BreastCancer.iloc[train_idx,:-1], BreastCancer.iloc[test_idx,:-1]\n",
        "train_y, test_y = BreastCancer.iloc[train_idx,-1], BreastCancer.iloc[test_idx,-1]"
      ]
    },
    {
      "cell_type": "markdown",
      "metadata": {
        "id": "5etiTCpuMQH5"
      },
      "source": [
        "#*Specify and Fit Neural Network*"
      ]
    },
    {
      "cell_type": "markdown",
      "source": [
        "Build a neural network with two fully connected layers (name it `model`). The first layer should have 32 hidden units and a `relu` activation. The second layer should have only one unit, and the activation function should be the `sigmoid` function, since we are dealing with a binary classification problem.\n"
      ],
      "metadata": {
        "id": "Xnv-7kDZTZF-"
      }
    },
    {
      "cell_type": "code",
      "execution_count": 3,
      "metadata": {
        "id": "imfRiESllpKm",
        "colab": {
          "base_uri": "https://localhost:8080/"
        },
        "outputId": "a0d01638-9c90-4783-db97-b2e98d52bdf1"
      },
      "outputs": [
        {
          "output_type": "stream",
          "name": "stdout",
          "text": [
            "Model: \"sequential\"\n",
            "_________________________________________________________________\n",
            " Layer (type)                Output Shape              Param #   \n",
            "=================================================================\n",
            " dense (Dense)               (None, 32)                992       \n",
            "                                                                 \n",
            " dense_1 (Dense)             (None, 1)                 33        \n",
            "                                                                 \n",
            "=================================================================\n",
            "Total params: 1025 (4.00 KB)\n",
            "Trainable params: 1025 (4.00 KB)\n",
            "Non-trainable params: 0 (0.00 Byte)\n",
            "_________________________________________________________________\n"
          ]
        }
      ],
      "source": [
        "# Set a random seed for reproducibility\n",
        "tf.random.set_seed(42)\n",
        "\n",
        "##TO DO\n",
        "'''\n",
        "model = keras.Sequential([\n",
        "      layers.Dense(units=100,activation=\"relu\"),\n",
        "      layers.Dense(units=10,activation=\"relu\"),\n",
        "      layers.Dense(units=1,activation=\"sigmoid\")\n",
        "])\n",
        "'''\n",
        "model = keras.Sequential([\n",
        "    layers.Dense(32, activation='relu', input_shape=(train_x.shape[1],)),\n",
        "    layers.Dense(1, activation='sigmoid')\n",
        "])\n",
        "\n",
        "model.summary()"
      ]
    },
    {
      "cell_type": "markdown",
      "source": [
        "Next, compile the model using an \"rmsprop\" optimizer and an appropriate loss function. Also, set metrics to record \"accuracy\" during training."
      ],
      "metadata": {
        "id": "RRyFrLjrUTAa"
      }
    },
    {
      "cell_type": "code",
      "source": [
        "##TO DO\n",
        "\n",
        "model.compile(loss=\"binary_crossentropy\",\n",
        "              optimizer=\"rmsprop\",\n",
        "              metrics=[\"accuracy\"])"
      ],
      "metadata": {
        "id": "AlL0l7UQUUJC"
      },
      "execution_count": 4,
      "outputs": []
    },
    {
      "cell_type": "markdown",
      "source": [
        "Fit the model on the training set with 20 epochs and batch size 32. Remember to store the outputs into a variable\n",
        "`history` for visualizing the training process."
      ],
      "metadata": {
        "id": "G-NvG9MlUkSA"
      }
    },
    {
      "cell_type": "code",
      "source": [
        "##TO DO\n",
        "'''\n",
        "history = model.fit(\n",
        "    train_dataset,\n",
        "    epochs=20,\n",
        "    validation_data=validation_dataset,\n",
        "    callbacks=callbacks)\n",
        "'''\n",
        "\n",
        "history = model.fit(\n",
        "    train_x,\n",
        "    train_y,\n",
        "    epochs=20,\n",
        "    batch_size=32,\n",
        "    validation_split=0.2)"
      ],
      "metadata": {
        "id": "PSckr1zuUorS",
        "colab": {
          "base_uri": "https://localhost:8080/"
        },
        "outputId": "f3b2dd4a-c164-47fc-f823-dfb847b0febd"
      },
      "execution_count": 5,
      "outputs": [
        {
          "output_type": "stream",
          "name": "stdout",
          "text": [
            "Epoch 1/20\n",
            "10/10 [==============================] - 4s 136ms/step - loss: 82.2997 - accuracy: 0.6006 - val_loss: 24.0059 - val_accuracy: 0.6375\n",
            "Epoch 2/20\n",
            "10/10 [==============================] - 0s 12ms/step - loss: 6.9108 - accuracy: 0.6918 - val_loss: 1.0491 - val_accuracy: 0.7750\n",
            "Epoch 3/20\n",
            "10/10 [==============================] - 0s 14ms/step - loss: 1.2901 - accuracy: 0.7736 - val_loss: 0.7685 - val_accuracy: 0.8375\n",
            "Epoch 4/20\n",
            "10/10 [==============================] - 0s 15ms/step - loss: 1.3572 - accuracy: 0.7579 - val_loss: 0.7676 - val_accuracy: 0.8125\n",
            "Epoch 5/20\n",
            "10/10 [==============================] - 0s 25ms/step - loss: 1.4933 - accuracy: 0.7673 - val_loss: 1.9739 - val_accuracy: 0.7875\n",
            "Epoch 6/20\n",
            "10/10 [==============================] - 0s 15ms/step - loss: 1.8813 - accuracy: 0.7516 - val_loss: 1.1399 - val_accuracy: 0.8625\n",
            "Epoch 7/20\n",
            "10/10 [==============================] - 0s 22ms/step - loss: 1.1429 - accuracy: 0.8082 - val_loss: 0.5574 - val_accuracy: 0.9000\n",
            "Epoch 8/20\n",
            "10/10 [==============================] - 0s 26ms/step - loss: 1.3776 - accuracy: 0.7453 - val_loss: 1.0380 - val_accuracy: 0.8625\n",
            "Epoch 9/20\n",
            "10/10 [==============================] - 0s 27ms/step - loss: 1.1362 - accuracy: 0.8302 - val_loss: 2.1079 - val_accuracy: 0.6000\n",
            "Epoch 10/20\n",
            "10/10 [==============================] - 0s 29ms/step - loss: 1.4960 - accuracy: 0.7579 - val_loss: 0.5396 - val_accuracy: 0.9000\n",
            "Epoch 11/20\n",
            "10/10 [==============================] - 0s 29ms/step - loss: 0.9587 - accuracy: 0.8491 - val_loss: 0.4897 - val_accuracy: 0.9125\n",
            "Epoch 12/20\n",
            "10/10 [==============================] - 0s 27ms/step - loss: 1.0600 - accuracy: 0.8208 - val_loss: 1.0646 - val_accuracy: 0.8500\n",
            "Epoch 13/20\n",
            "10/10 [==============================] - 0s 23ms/step - loss: 0.8317 - accuracy: 0.8459 - val_loss: 0.8962 - val_accuracy: 0.8000\n",
            "Epoch 14/20\n",
            "10/10 [==============================] - 0s 18ms/step - loss: 1.5970 - accuracy: 0.7830 - val_loss: 0.8934 - val_accuracy: 0.7875\n",
            "Epoch 15/20\n",
            "10/10 [==============================] - 0s 23ms/step - loss: 0.9232 - accuracy: 0.8019 - val_loss: 0.5547 - val_accuracy: 0.8625\n",
            "Epoch 16/20\n",
            "10/10 [==============================] - 0s 20ms/step - loss: 1.4404 - accuracy: 0.7830 - val_loss: 0.7187 - val_accuracy: 0.8750\n",
            "Epoch 17/20\n",
            "10/10 [==============================] - 0s 26ms/step - loss: 1.4149 - accuracy: 0.7767 - val_loss: 0.5528 - val_accuracy: 0.9000\n",
            "Epoch 18/20\n",
            "10/10 [==============================] - 0s 31ms/step - loss: 0.9308 - accuracy: 0.8459 - val_loss: 0.4146 - val_accuracy: 0.8875\n",
            "Epoch 19/20\n",
            "10/10 [==============================] - 0s 24ms/step - loss: 0.7222 - accuracy: 0.8491 - val_loss: 1.2639 - val_accuracy: 0.7375\n",
            "Epoch 20/20\n",
            "10/10 [==============================] - 0s 28ms/step - loss: 0.8914 - accuracy: 0.8176 - val_loss: 1.6192 - val_accuracy: 0.8625\n"
          ]
        }
      ]
    },
    {
      "cell_type": "markdown",
      "metadata": {
        "id": "XcD7R5-UG8sl"
      },
      "source": [
        "Plot `history` to see the training process. Report the loss and the accuracy on the training set in the final epoch, which can be displayed using commands of the following form `print(history.history['loss'][-1]`."
      ]
    },
    {
      "cell_type": "code",
      "execution_count": 6,
      "metadata": {
        "id": "jXQEVK1bHAHy",
        "colab": {
          "base_uri": "https://localhost:8080/",
          "height": 508
        },
        "outputId": "af183db5-64b7-4ea9-a88a-1b558365f2f4"
      },
      "outputs": [
        {
          "output_type": "display_data",
          "data": {
            "text/plain": [
              "<Figure size 640x480 with 1 Axes>"
            ],
            "image/png": "[encoded data removed]"
          },
          "metadata": {}
        },
        {
          "output_type": "stream",
          "name": "stdout",
          "text": [
            "Loss on the training set in the final epoch: 0.891424298286438\n",
            "Accuracy on the training set in the final epoch: 0.8176100850105286\n"
          ]
        }
      ],
      "source": [
        "#TO DO\n",
        "'''\n",
        "plt.plot(history.history['val_accuracy'],c=\"b\")\n",
        "plt.plot(history.history['accuracy'],c=\"r\")\n",
        "plt.legend(['Validation Acc','Training Acc'])\n",
        "plt.show()\n",
        "'''\n",
        "\n",
        "plt.plot(history.history['loss'], label='Training Loss')\n",
        "plt.plot(history.history['accuracy'], label='Training Accuracy')\n",
        "plt.xlabel('Epochs')\n",
        "plt.ylabel('Metrics')\n",
        "plt.title('Training Process')\n",
        "plt.legend()\n",
        "plt.show()\n",
        "\n",
        "# Report the loss and accuracy on the training set in the final epoch\n",
        "final_loss = history.history['loss'][-1]\n",
        "final_accuracy = history.history['accuracy'][-1]\n",
        "\n",
        "print(\"Loss on the training set in the final epoch:\", final_loss)\n",
        "print(\"Accuracy on the training set in the final epoch:\", final_accuracy)"
      ]
    },
    {
      "cell_type": "markdown",
      "source": [
        "Finally, report the loss and the accuracy of your network on the test set."
      ],
      "metadata": {
        "id": "XPF_8z0qXh6A"
      }
    },
    {
      "cell_type": "code",
      "source": [
        "##TO DO\n",
        "'''\n",
        "test_model = keras.models.load_model(\"drive/My Drive/Teaching/Courses/NYU - Modern AI/Session 4-5/convnet_from_scratch.keras\")\n",
        "test_loss, test_acc = test_model.evaluate(test_dataset)\n",
        "print(f\"Test accuracy: {test_acc}\")\n",
        "'''\n",
        "\n",
        "test_loss, test_accuracy = model.evaluate(test_x, test_y)\n",
        "\n",
        "# Report the test set performance\n",
        "print(\"Test set performance of the Network:\")\n",
        "print(\"  Loss:\", test_loss)\n",
        "print(\"  Accuracy:\", test_accuracy)"
      ],
      "metadata": {
        "id": "Tl0ha_1WXiw1",
        "colab": {
          "base_uri": "https://localhost:8080/"
        },
        "outputId": "3bfa4036-e2aa-441b-ad0d-732cadd16860"
      },
      "execution_count": 7,
      "outputs": [
        {
          "output_type": "stream",
          "name": "stdout",
          "text": [
            "6/6 [==============================] - 0s 8ms/step - loss: 1.8071 - accuracy: 0.8304\n",
            "Test set performance of the Network:\n",
            "  Loss: 1.8070671558380127\n",
            "  Accuracy: 0.8304093480110168\n"
          ]
        }
      ]
    },
    {
      "cell_type": "markdown",
      "metadata": {
        "id": "799Ss4r4cDB5"
      },
      "source": [
        "#*Try Different Network Structures*"
      ]
    },
    {
      "cell_type": "markdown",
      "source": [
        "Now, based on the `model` you just built, build three different networks as follows.\n",
        "\n",
        "*  `network_deeper`: Add another dense layer between the two layers of your first `network`. The newly-added layer should contain 16 hidden units and a `relu` activation.\n",
        "*   `network_regularized`: Add an $\\ell_2$ regularizer to the first layer of `network`, with regularization parameter `0.01`. Note that a kernel_regularizer=\"l2\" will use a default value of 0.01 for the parameter.\n",
        "*   `network_dropout`: Add a dropout layer between the first layer and the last layer of `network`, with the drop rate `0.5`.\n",
        "\n",
        "\n",
        "Train these networks using the same compile step and the same fit step you used for your first `network`. Report the accuracies of the three new models on the test set."
      ],
      "metadata": {
        "id": "3kk8V0AyYGN9"
      }
    },
    {
      "cell_type": "code",
      "execution_count": 8,
      "metadata": {
        "id": "TkVkAJaGcFCJ",
        "colab": {
          "base_uri": "https://localhost:8080/"
        },
        "outputId": "edd7f1fd-cd63-4283-a6c0-3711d3f47b96"
      },
      "outputs": [
        {
          "output_type": "stream",
          "name": "stdout",
          "text": [
            "Epoch 1/20\n",
            "10/10 [==============================] - 6s 95ms/step - loss: 16.9354 - accuracy: 0.3962 - val_loss: 14.6378 - val_accuracy: 0.4750\n",
            "Epoch 2/20\n",
            "10/10 [==============================] - 0s 16ms/step - loss: 12.2052 - accuracy: 0.3365 - val_loss: 9.5007 - val_accuracy: 0.3625\n",
            "Epoch 3/20\n",
            "10/10 [==============================] - 0s 13ms/step - loss: 7.2473 - accuracy: 0.2673 - val_loss: 5.0753 - val_accuracy: 0.2625\n",
            "Epoch 4/20\n",
            "10/10 [==============================] - 0s 47ms/step - loss: 3.7558 - accuracy: 0.3962 - val_loss: 3.3523 - val_accuracy: 0.5375\n",
            "Epoch 5/20\n",
            "10/10 [==============================] - 0s 19ms/step - loss: 2.0877 - accuracy: 0.4843 - val_loss: 0.9809 - val_accuracy: 0.7125\n",
            "Epoch 6/20\n",
            "10/10 [==============================] - 0s 28ms/step - loss: 1.5438 - accuracy: 0.6509 - val_loss: 1.2893 - val_accuracy: 0.5875\n",
            "Epoch 7/20\n",
            "10/10 [==============================] - 0s 22ms/step - loss: 1.2049 - accuracy: 0.7390 - val_loss: 1.1011 - val_accuracy: 0.6500\n",
            "Epoch 8/20\n",
            "10/10 [==============================] - 0s 19ms/step - loss: 0.9340 - accuracy: 0.7170 - val_loss: 0.5833 - val_accuracy: 0.8125\n",
            "Epoch 9/20\n",
            "10/10 [==============================] - 0s 20ms/step - loss: 0.8527 - accuracy: 0.7358 - val_loss: 0.4883 - val_accuracy: 0.8375\n",
            "Epoch 10/20\n",
            "10/10 [==============================] - 0s 27ms/step - loss: 0.7540 - accuracy: 0.7736 - val_loss: 0.5780 - val_accuracy: 0.8125\n",
            "Epoch 11/20\n",
            "10/10 [==============================] - 0s 31ms/step - loss: 0.7795 - accuracy: 0.7296 - val_loss: 1.2074 - val_accuracy: 0.4875\n",
            "Epoch 12/20\n",
            "10/10 [==============================] - 0s 23ms/step - loss: 0.6375 - accuracy: 0.7956 - val_loss: 0.5024 - val_accuracy: 0.8250\n",
            "Epoch 13/20\n",
            "10/10 [==============================] - 0s 20ms/step - loss: 0.5050 - accuracy: 0.8208 - val_loss: 0.3026 - val_accuracy: 0.9125\n",
            "Epoch 14/20\n",
            "10/10 [==============================] - 0s 39ms/step - loss: 0.4452 - accuracy: 0.8459 - val_loss: 0.2713 - val_accuracy: 0.9250\n",
            "Epoch 15/20\n",
            "10/10 [==============================] - 0s 24ms/step - loss: 0.3973 - accuracy: 0.8711 - val_loss: 0.2723 - val_accuracy: 0.9250\n",
            "Epoch 16/20\n",
            "10/10 [==============================] - 0s 20ms/step - loss: 0.3739 - accuracy: 0.8711 - val_loss: 0.4119 - val_accuracy: 0.8625\n",
            "Epoch 17/20\n",
            "10/10 [==============================] - 0s 10ms/step - loss: 0.3713 - accuracy: 0.8742 - val_loss: 0.2740 - val_accuracy: 0.9375\n",
            "Epoch 18/20\n",
            "10/10 [==============================] - 0s 21ms/step - loss: 0.3155 - accuracy: 0.8836 - val_loss: 0.2779 - val_accuracy: 0.9500\n",
            "Epoch 19/20\n",
            "10/10 [==============================] - 0s 10ms/step - loss: 0.3377 - accuracy: 0.8774 - val_loss: 0.2879 - val_accuracy: 0.9250\n",
            "Epoch 20/20\n",
            "10/10 [==============================] - 0s 29ms/step - loss: 0.3048 - accuracy: 0.8899 - val_loss: 0.2465 - val_accuracy: 0.9375\n",
            "Epoch 1/20\n",
            "10/10 [==============================] - 1s 30ms/step - loss: 54.1589 - accuracy: 0.3994 - val_loss: 29.6044 - val_accuracy: 0.3625\n",
            "Epoch 2/20\n",
            "10/10 [==============================] - 0s 12ms/step - loss: 10.2845 - accuracy: 0.5755 - val_loss: 6.9986 - val_accuracy: 0.7125\n",
            "Epoch 3/20\n",
            "10/10 [==============================] - 0s 10ms/step - loss: 8.0738 - accuracy: 0.7170 - val_loss: 1.5002 - val_accuracy: 0.8125\n",
            "Epoch 4/20\n",
            "10/10 [==============================] - 0s 12ms/step - loss: 3.8472 - accuracy: 0.5535 - val_loss: 2.7333 - val_accuracy: 0.6875\n",
            "Epoch 5/20\n",
            "10/10 [==============================] - 0s 10ms/step - loss: 2.3950 - accuracy: 0.7767 - val_loss: 1.4901 - val_accuracy: 0.8875\n",
            "Epoch 6/20\n",
            "10/10 [==============================] - 0s 10ms/step - loss: 2.1319 - accuracy: 0.7925 - val_loss: 1.7836 - val_accuracy: 0.7750\n",
            "Epoch 7/20\n",
            "10/10 [==============================] - 0s 10ms/step - loss: 1.9291 - accuracy: 0.7704 - val_loss: 1.2871 - val_accuracy: 0.8250\n",
            "Epoch 8/20\n",
            "10/10 [==============================] - 0s 9ms/step - loss: 1.8458 - accuracy: 0.7862 - val_loss: 1.4293 - val_accuracy: 0.8375\n",
            "Epoch 9/20\n",
            "10/10 [==============================] - 0s 8ms/step - loss: 1.7702 - accuracy: 0.7987 - val_loss: 1.2597 - val_accuracy: 0.8250\n",
            "Epoch 10/20\n",
            "10/10 [==============================] - 0s 10ms/step - loss: 1.7414 - accuracy: 0.8113 - val_loss: 1.4270 - val_accuracy: 0.8250\n",
            "Epoch 11/20\n",
            "10/10 [==============================] - 0s 11ms/step - loss: 1.6949 - accuracy: 0.7925 - val_loss: 1.3380 - val_accuracy: 0.8375\n",
            "Epoch 12/20\n",
            "10/10 [==============================] - 0s 11ms/step - loss: 1.6189 - accuracy: 0.7893 - val_loss: 1.0839 - val_accuracy: 0.8500\n",
            "Epoch 13/20\n",
            "10/10 [==============================] - 0s 9ms/step - loss: 1.6087 - accuracy: 0.8176 - val_loss: 1.3282 - val_accuracy: 0.8125\n",
            "Epoch 14/20\n",
            "10/10 [==============================] - 0s 8ms/step - loss: 1.5478 - accuracy: 0.7862 - val_loss: 1.0031 - val_accuracy: 0.8500\n",
            "Epoch 15/20\n",
            "10/10 [==============================] - 0s 10ms/step - loss: 1.4831 - accuracy: 0.8208 - val_loss: 1.1903 - val_accuracy: 0.8375\n",
            "Epoch 16/20\n",
            "10/10 [==============================] - 0s 11ms/step - loss: 1.4397 - accuracy: 0.8145 - val_loss: 1.0488 - val_accuracy: 0.8625\n",
            "Epoch 17/20\n",
            "10/10 [==============================] - 0s 9ms/step - loss: 1.4259 - accuracy: 0.8239 - val_loss: 1.1271 - val_accuracy: 0.8500\n",
            "Epoch 18/20\n",
            "10/10 [==============================] - 0s 11ms/step - loss: 1.4160 - accuracy: 0.8270 - val_loss: 0.8762 - val_accuracy: 0.8875\n",
            "Epoch 19/20\n",
            "10/10 [==============================] - 0s 10ms/step - loss: 1.4381 - accuracy: 0.8176 - val_loss: 0.9841 - val_accuracy: 0.8625\n",
            "Epoch 20/20\n",
            "10/10 [==============================] - 0s 10ms/step - loss: 1.2740 - accuracy: 0.8302 - val_loss: 0.8755 - val_accuracy: 0.8750\n",
            "Epoch 1/20\n",
            "10/10 [==============================] - 1s 27ms/step - loss: 95.3762 - accuracy: 0.3931 - val_loss: 81.5342 - val_accuracy: 0.3625\n",
            "Epoch 2/20\n",
            "10/10 [==============================] - 0s 6ms/step - loss: 73.3414 - accuracy: 0.4119 - val_loss: 49.6228 - val_accuracy: 0.3625\n",
            "Epoch 3/20\n",
            "10/10 [==============================] - 0s 8ms/step - loss: 50.9331 - accuracy: 0.4591 - val_loss: 22.0221 - val_accuracy: 0.3625\n",
            "Epoch 4/20\n",
            "10/10 [==============================] - 0s 7ms/step - loss: 36.0214 - accuracy: 0.5031 - val_loss: 6.4364 - val_accuracy: 0.3875\n",
            "Epoch 5/20\n",
            "10/10 [==============================] - 0s 7ms/step - loss: 30.9052 - accuracy: 0.5566 - val_loss: 2.2063 - val_accuracy: 0.6375\n",
            "Epoch 6/20\n",
            "10/10 [==============================] - 0s 9ms/step - loss: 33.1236 - accuracy: 0.5566 - val_loss: 1.6411 - val_accuracy: 0.7500\n",
            "Epoch 7/20\n",
            "10/10 [==============================] - 0s 9ms/step - loss: 31.9681 - accuracy: 0.5566 - val_loss: 2.8734 - val_accuracy: 0.6500\n",
            "Epoch 8/20\n",
            "10/10 [==============================] - 0s 6ms/step - loss: 31.6936 - accuracy: 0.5472 - val_loss: 5.9420 - val_accuracy: 0.4625\n",
            "Epoch 9/20\n",
            "10/10 [==============================] - 0s 7ms/step - loss: 22.1285 - accuracy: 0.5755 - val_loss: 3.2672 - val_accuracy: 0.6000\n",
            "Epoch 10/20\n",
            "10/10 [==============================] - 0s 8ms/step - loss: 20.5862 - accuracy: 0.5849 - val_loss: 1.8964 - val_accuracy: 0.7500\n",
            "Epoch 11/20\n",
            "10/10 [==============================] - 0s 8ms/step - loss: 16.5147 - accuracy: 0.6069 - val_loss: 1.4762 - val_accuracy: 0.7875\n",
            "Epoch 12/20\n",
            "10/10 [==============================] - 0s 7ms/step - loss: 15.5854 - accuracy: 0.6195 - val_loss: 1.0865 - val_accuracy: 0.8375\n",
            "Epoch 13/20\n",
            "10/10 [==============================] - 0s 6ms/step - loss: 13.8381 - accuracy: 0.6006 - val_loss: 1.2099 - val_accuracy: 0.8125\n",
            "Epoch 14/20\n",
            "10/10 [==============================] - 0s 6ms/step - loss: 13.4396 - accuracy: 0.6195 - val_loss: 1.1801 - val_accuracy: 0.8375\n",
            "Epoch 15/20\n",
            "10/10 [==============================] - 0s 7ms/step - loss: 13.0362 - accuracy: 0.5975 - val_loss: 1.4377 - val_accuracy: 0.8000\n",
            "Epoch 16/20\n",
            "10/10 [==============================] - 0s 7ms/step - loss: 9.1663 - accuracy: 0.6195 - val_loss: 0.6364 - val_accuracy: 0.9125\n",
            "Epoch 17/20\n",
            "10/10 [==============================] - 0s 8ms/step - loss: 7.7278 - accuracy: 0.7075 - val_loss: 0.5694 - val_accuracy: 0.9125\n",
            "Epoch 18/20\n",
            "10/10 [==============================] - 0s 6ms/step - loss: 6.7359 - accuracy: 0.6887 - val_loss: 0.7443 - val_accuracy: 0.9000\n",
            "Epoch 19/20\n",
            "10/10 [==============================] - 0s 8ms/step - loss: 5.7837 - accuracy: 0.7013 - val_loss: 0.6130 - val_accuracy: 0.9125\n",
            "Epoch 20/20\n",
            "10/10 [==============================] - 0s 8ms/step - loss: 4.2802 - accuracy: 0.7390 - val_loss: 0.6427 - val_accuracy: 0.8875\n"
          ]
        }
      ],
      "source": [
        "##TO DO\n",
        "\n",
        "from keras import regularizers\n",
        "\n",
        "# Network with an additional dense layer\n",
        "network_deeper = keras.Sequential([\n",
        "    layers.Dense(32, activation='relu', input_shape=(train_x.shape[1],)),\n",
        "    layers.Dense(16, activation='relu'),  # Additional dense layer with 16 hidden units and ReLU activation\n",
        "    layers.Dense(1, activation='sigmoid')\n",
        "])\n",
        "\n",
        "# Compile the deeper network\n",
        "network_deeper.compile(optimizer='adam', loss='binary_crossentropy', metrics=['accuracy'])\n",
        "\n",
        "# Train the deeper network\n",
        "history_deeper = network_deeper.fit(train_x, train_y, epochs=20, batch_size=32, validation_split=0.2)\n",
        "\n",
        "# Network with L2 regularization\n",
        "network_regularized = keras.Sequential([\n",
        "    layers.Dense(32, activation='relu', kernel_regularizer=regularizers.l2(0.01), input_shape=(train_x.shape[1],)),\n",
        "    layers.Dense(1, activation='sigmoid')\n",
        "])\n",
        "\n",
        "# Compile the regularized network\n",
        "network_regularized.compile(optimizer='adam', loss='binary_crossentropy', metrics=['accuracy'])\n",
        "\n",
        "# Train the regularized network\n",
        "history_regularized = network_regularized.fit(train_x, train_y, epochs=20, batch_size=32, validation_split=0.2)\n",
        "\n",
        "# Network with dropout\n",
        "network_dropout = keras.Sequential([\n",
        "    layers.Dense(32, activation='relu', input_shape=(train_x.shape[1],)),\n",
        "    layers.Dropout(0.5),  # Dropout layer with dropout rate 0.5\n",
        "    layers.Dense(1, activation='sigmoid')\n",
        "])\n",
        "\n",
        "# Compile the dropout network\n",
        "network_dropout.compile(optimizer='adam', loss='binary_crossentropy', metrics=['accuracy'])\n",
        "\n",
        "# Train the dropout network\n",
        "history_dropout = network_dropout.fit(train_x, train_y, epochs=20, batch_size=32, validation_split=0.2)"
      ]
    },
    {
      "cell_type": "markdown",
      "metadata": {
        "id": "MFDAd_jXiFHR"
      },
      "source": [
        "Test set performance of each new network..."
      ]
    },
    {
      "cell_type": "code",
      "execution_count": 9,
      "metadata": {
        "id": "XmZBB8Y4iJER",
        "colab": {
          "base_uri": "https://localhost:8080/"
        },
        "outputId": "59f83e6e-da68-4653-87c7-246161b75b3b"
      },
      "outputs": [
        {
          "output_type": "stream",
          "name": "stdout",
          "text": [
            "6/6 [==============================] - 0s 3ms/step - loss: 0.2511 - accuracy: 0.9064\n",
            "6/6 [==============================] - 0s 3ms/step - loss: 1.1117 - accuracy: 0.9064\n",
            "6/6 [==============================] - 0s 3ms/step - loss: 0.8494 - accuracy: 0.9123\n",
            "Test set performance of the Deeper Network:\n",
            "  Loss: 0.25109389424324036\n",
            "  Accuracy: 0.9064327478408813\n",
            "\n",
            "Test set performance of the Regularized Network:\n",
            "  Loss: 1.1117372512817383\n",
            "  Accuracy: 0.9064327478408813\n",
            "\n",
            "Test set performance of the Dropout Network:\n",
            "  Loss: 0.8494138717651367\n",
            "  Accuracy: 0.9122806787490845\n"
          ]
        }
      ],
      "source": [
        "##TO DO\n",
        "\n",
        "##TO DO\n",
        "# Evaluate the performance of the three new models on the test set\n",
        "test_loss_deeper, test_accuracy_deeper = network_deeper.evaluate(test_x, test_y)\n",
        "test_loss_regularized, test_accuracy_regularized = network_regularized.evaluate(test_x, test_y)\n",
        "test_loss_dropout, test_accuracy_dropout = network_dropout.evaluate(test_x, test_y)\n",
        "\n",
        "# Report the test set performance\n",
        "print(\"Test set performance of the Deeper Network:\")\n",
        "print(\"  Loss:\", test_loss_deeper)\n",
        "print(\"  Accuracy:\", test_accuracy_deeper)\n",
        "\n",
        "print(\"\\nTest set performance of the Regularized Network:\")\n",
        "print(\"  Loss:\", test_loss_regularized)\n",
        "print(\"  Accuracy:\", test_accuracy_regularized)\n",
        "\n",
        "print(\"\\nTest set performance of the Dropout Network:\")\n",
        "print(\"  Loss:\", test_loss_dropout)\n",
        "print(\"  Accuracy:\", test_accuracy_dropout)"
      ]
    },
    {
      "cell_type": "markdown",
      "source": [
        "Based on the test accuracies, which one of the three networks perform the best?\n",
        "\n",
        "Ans: # TODO\n",
        "\n",
        "Based on accuracies alone, the Deeper and Dropout networks have the same accuracy rate at 0.92982. Looking at the Loss factor as well when comparing these two outputs, the Deeper network has a lower loss. The Deeper Network would have a better fit to the data as well as less errors."
      ],
      "metadata": {
        "id": "ICr4Mg-hbStQ"
      }
    },
    {
      "cell_type": "markdown",
      "metadata": {
        "id": "9xWiloTgSuC_"
      },
      "source": [
        "# Problem 2: Fashion_MNIST Classification using Convolutional Neural Networks\n",
        "\n",
        "In this problem, we will train a *convolutional neural network* (CNN) for clothing classification using the Fashion_MNIST dataset. Fashion_MNIST is a dataset of Zalando's article images—consisting of a training set of 60,000 examples and a test set of 10,000 examples. Each example is a 28x28 grayscale image, associated with a label from 10 classes of clothing, such as shoes, t-shirts, dresses, and so on. See [here](https://github.com/zalandoresearch/fashion-mnist) for more details."
      ]
    },
    {
      "cell_type": "markdown",
      "source": [
        "Load the Fashion_MNIST dataset, which is included in `keras`, and then construct the training and test sets."
      ],
      "metadata": {
        "id": "cfbeoU9Rb4LV"
      }
    },
    {
      "cell_type": "code",
      "source": [
        "from keras.datasets import fashion_mnist\n",
        "\n",
        "(x_train, y_train), (x_test, y_test) = fashion_mnist.load_data()\n",
        "\n",
        "print(x_train.shape)\n",
        "print(y_train.shape)"
      ],
      "metadata": {
        "colab": {
          "base_uri": "https://localhost:8080/"
        },
        "id": "HS44Z5ykb5at",
        "outputId": "5cf01b37-9949-4312-f988-0cbf77753346"
      },
      "execution_count": 10,
      "outputs": [
        {
          "output_type": "stream",
          "name": "stdout",
          "text": [
            "Downloading data from https://storage.googleapis.com/tensorflow/tf-keras-datasets/train-labels-idx1-ubyte.gz\n",
            "29515/29515 [==============================] - 0s 0us/step\n",
            "Downloading data from https://storage.googleapis.com/tensorflow/tf-keras-datasets/train-images-idx3-ubyte.gz\n",
            "26421880/26421880 [==============================] - 0s 0us/step\n",
            "Downloading data from https://storage.googleapis.com/tensorflow/tf-keras-datasets/t10k-labels-idx1-ubyte.gz\n",
            "5148/5148 [==============================] - 0s 0us/step\n",
            "Downloading data from https://storage.googleapis.com/tensorflow/tf-keras-datasets/t10k-images-idx3-ubyte.gz\n",
            "4422102/4422102 [==============================] - 0s 0us/step\n",
            "(60000, 28, 28)\n",
            "(60000,)\n"
          ]
        }
      ]
    },
    {
      "cell_type": "markdown",
      "source": [
        "Similar to the MNIST dataset, the images are encoded as 3D arrays, and the labels are a 1D array of categories, ranging from 0 to 9. The training images are stored in an array of 60,000 matrices of 28 × 28 integers. Each such matrix is a grayscale image, with values between 0 and 255. The first 36 images are visualized as follows."
      ],
      "metadata": {
        "id": "Z4jyMOozcbRu"
      }
    },
    {
      "cell_type": "code",
      "source": [
        "# Define the dimensions of the plot grid\n",
        "W_grid = 6\n",
        "L_grid = 6\n",
        "\n",
        "# Create a subplot of 6 x 6 images\n",
        "fig, axes = plt.subplots(L_grid, W_grid, figsize = (10,10))\n",
        "\n",
        "# Flatten the 6 x 6 grid into 36 items\n",
        "axes = axes.ravel()\n",
        "\n",
        "# Loop through the first 36 images\n",
        "for i in np.arange(0, W_grid * L_grid):\n",
        "    # Select random images to display\n",
        "    axes[i].imshow(x_train[i], cmap='gray')\n",
        "    axes[i].set_title(y_train[i], fontsize=8)\n",
        "    axes[i].axis('off')\n",
        "\n",
        "plt.subplots_adjust(hspace=0.4)"
      ],
      "metadata": {
        "colab": {
          "base_uri": "https://localhost:8080/",
          "height": 823
        },
        "id": "N4Wax-R4ctf1",
        "outputId": "dcc63fef-dec7-4bf6-845b-c66a56099680"
      },
      "execution_count": 11,
      "outputs": [
        {
          "output_type": "display_data",
          "data": {
            "text/plain": [
              "<Figure size 1000x1000 with 36 Axes>"
            ],
            "image/png": "[encoded data removed]"
          },
          "metadata": {}
        }
      ]
    },
    {
      "cell_type": "markdown",
      "source": [
        "First, preprocess the data through the following steps:\n",
        "1.  Reshape the images into the shape that a CNN expects. The shape of `X_train` and `X_test` should be (60000, 28, 28, 1) and (10000, 28, 28, 1), respectively.\n",
        "2. Scale `X_train` and `X_test` so that their values are in the [0, 1] interval.\n",
        "3. One-hot encode the labels `y_train` and `y_test` using the to_categorical function from keras.utils.\n",
        "\n"
      ],
      "metadata": {
        "id": "O4Lr0HWuc2kx"
      }
    },
    {
      "cell_type": "code",
      "source": [
        "from keras.utils import to_categorical\n",
        "\n",
        "##TO DO\n",
        "'''\n",
        "# Pre-process the data, to flatten the images into vectors and scale the values.\n",
        "train_images = train_images.reshape((len(train_images), 28*28))\n",
        "train_images = train_images.astype(\"float32\") / 255\n",
        "test_images = test_images.reshape((len(test_images), 28*28))\n",
        "test_images = test_images.astype(\"float32\") / 255\n",
        "\n",
        "# And reshape these to make sure the second dimension is formally defined as 1 (else you'll get a shape error in the model.fit() call)\n",
        "train_labels = train_labels.reshape(len(train_labels),1)\n",
        "test_labels = test_labels.reshape(len(test_labels),1)\n",
        "'''\n",
        "\n",
        "# Reshape the images into the shape that a CNN expects. The shape of X_train and X_test should be (60000, 28, 28, 1) and (10000, 28, 28, 1), respectively.\n",
        "x_train = x_train.reshape(x_train.shape[0], 28, 28, 1)\n",
        "x_test = x_test.reshape(x_test.shape[0], 28, 28, 1)\n",
        "\n",
        "# Scale the images\n",
        "x_train = x_train.astype('float32') / 255\n",
        "x_test = x_test.astype('float32') / 255\n",
        "\n",
        "# One-hot encode the labels y_train and y_test using the to_categorical function from keras.utils.\n",
        "y_train = to_categorical(y_train)\n",
        "y_test = to_categorical(y_test)\n",
        "\n",
        "# Print the shapes of the preprocessed data\n",
        "print(\"Shape of x_train:\", x_train.shape)\n",
        "print(\"Shape of y_train:\", y_train.shape)\n",
        "print(\"Shape of x_test:\", x_test.shape)\n",
        "print(\"Shape of y_test:\", y_test.shape)"
      ],
      "metadata": {
        "id": "_bw4xRy4c7CX",
        "colab": {
          "base_uri": "https://localhost:8080/"
        },
        "outputId": "59ceaf1a-2971-425d-9374-cc997397699f"
      },
      "execution_count": 12,
      "outputs": [
        {
          "output_type": "stream",
          "name": "stdout",
          "text": [
            "Shape of x_train: (60000, 28, 28, 1)\n",
            "Shape of y_train: (60000, 10)\n",
            "Shape of x_test: (10000, 28, 28, 1)\n",
            "Shape of y_test: (10000, 10)\n"
          ]
        }
      ]
    },
    {
      "cell_type": "markdown",
      "source": [
        "Now build a CNN model that sequentially includes:\n",
        "\n",
        "*   A 2D convolution layer with 16 filters of size 3$\\times$3, zero padding, and `\"relu\"` activation;\n",
        "*   A maxpooling layer with size 2$\\times$2;\n",
        "*   A flatten layer;\n",
        "*   A dense layer with 64 hidden units and a `\"relu\"` activation;\n",
        "*   Another dense layer with 10 units and `\"softmax\"` activation.\n"
      ],
      "metadata": {
        "id": "M0WA0dOOdQoc"
      }
    },
    {
      "cell_type": "code",
      "source": [
        "##TO DO\n",
        "# import tensorflow as tf\n",
        "# from tensorflow import keras\n",
        "# from tensorflow.keras import layers\n",
        "# import math\n",
        "# from keras import backend as K\n",
        "from keras.models import Sequential\n",
        "from keras.layers import Conv2D, MaxPooling2D, Flatten, Dense\n",
        "\n",
        "# Initialize the Sequential model\n",
        "model = keras.Sequential()\n",
        "\n",
        "# Add the convolutional layer\n",
        "model.add(Conv2D(16, (3, 3), padding='same', activation='relu', input_shape=(28, 28, 1)))\n",
        "\n",
        "# Add the max-pooling layer\n",
        "model.add(MaxPooling2D(pool_size=(2, 2)))\n",
        "\n",
        "# Add the flattening layer\n",
        "model.add(Flatten())\n",
        "\n",
        "# Add a dense layer\n",
        "model.add(Dense(64, activation='relu'))\n",
        "\n",
        "# Add the dense layer with softmax activation for classification\n",
        "model.add(Dense(10, activation='softmax'))\n"
      ],
      "metadata": {
        "id": "ZBEEXfWcdT4b"
      },
      "execution_count": 13,
      "outputs": []
    },
    {
      "cell_type": "markdown",
      "source": [
        "Now compile the CNN you just built with a proper loss function, the `\"rmsprop\"` optimizer , and the `\"acc\"` metric.  "
      ],
      "metadata": {
        "id": "0S2Ugrb7d9A9"
      }
    },
    {
      "cell_type": "code",
      "source": [
        "##TO DO\n",
        "\n",
        "# Compile the model\n",
        "# model.compile(optimizer='rmsprop', loss='sparse_categorical_crossentropy', metrics=['accuracy'])\n",
        "model.compile(optimizer='rmsprop', loss='categorical_crossentropy', metrics=['accuracy'])\n",
        "\n",
        "# Print the model summary\n",
        "model.summary()"
      ],
      "metadata": {
        "id": "_3miF4J_d9r5",
        "colab": {
          "base_uri": "https://localhost:8080/"
        },
        "outputId": "9fb71936-bb3f-4064-8eb7-b6bf75c2a643"
      },
      "execution_count": 14,
      "outputs": [
        {
          "output_type": "stream",
          "name": "stdout",
          "text": [
            "Model: \"sequential_4\"\n",
            "_________________________________________________________________\n",
            " Layer (type)                Output Shape              Param #   \n",
            "=================================================================\n",
            " conv2d (Conv2D)             (None, 28, 28, 16)        160       \n",
            "                                                                 \n",
            " max_pooling2d (MaxPooling2  (None, 14, 14, 16)        0         \n",
            " D)                                                              \n",
            "                                                                 \n",
            " flatten (Flatten)           (None, 3136)              0         \n",
            "                                                                 \n",
            " dense_9 (Dense)             (None, 64)                200768    \n",
            "                                                                 \n",
            " dense_10 (Dense)            (None, 10)                650       \n",
            "                                                                 \n",
            "=================================================================\n",
            "Total params: 201578 (787.41 KB)\n",
            "Trainable params: 201578 (787.41 KB)\n",
            "Non-trainable params: 0 (0.00 Byte)\n",
            "_________________________________________________________________\n"
          ]
        }
      ]
    },
    {
      "cell_type": "markdown",
      "source": [
        "Fit the model on the training set with 10 epochs. Remember to record the output into a `history` variable."
      ],
      "metadata": {
        "id": "65uv6cHpeGxl"
      }
    },
    {
      "cell_type": "code",
      "source": [
        "##TO DO\n",
        "\n",
        "# Fit the model on the training data\n",
        "# history = model.fit(x_train, y_train, epochs=10, validation_data=(x_test, y_test))\n",
        "history = model.fit(x_train, y_train, epochs=10, batch_size=32, validation_split=0.2)\n"
      ],
      "metadata": {
        "id": "2A7vqBazeHjS",
        "colab": {
          "base_uri": "https://localhost:8080/"
        },
        "outputId": "0c802ac8-9bc9-4c27-e59e-ffaff39905a6"
      },
      "execution_count": 15,
      "outputs": [
        {
          "output_type": "stream",
          "name": "stdout",
          "text": [
            "Epoch 1/10\n",
            "1500/1500 [==============================] - 26s 17ms/step - loss: 0.4336 - accuracy: 0.8450 - val_loss: 0.3236 - val_accuracy: 0.8857\n",
            "Epoch 2/10\n",
            "1500/1500 [==============================] - 25s 17ms/step - loss: 0.2949 - accuracy: 0.8958 - val_loss: 0.2906 - val_accuracy: 0.8961\n",
            "Epoch 3/10\n",
            "1500/1500 [==============================] - 25s 17ms/step - loss: 0.2532 - accuracy: 0.9091 - val_loss: 0.2767 - val_accuracy: 0.9007\n",
            "Epoch 4/10\n",
            "1500/1500 [==============================] - 26s 17ms/step - loss: 0.2262 - accuracy: 0.9176 - val_loss: 0.2556 - val_accuracy: 0.9092\n",
            "Epoch 5/10\n",
            "1500/1500 [==============================] - 25s 17ms/step - loss: 0.2026 - accuracy: 0.9271 - val_loss: 0.2542 - val_accuracy: 0.9106\n",
            "Epoch 6/10\n",
            "1500/1500 [==============================] - 27s 18ms/step - loss: 0.1872 - accuracy: 0.9320 - val_loss: 0.2496 - val_accuracy: 0.9132\n",
            "Epoch 7/10\n",
            "1500/1500 [==============================] - 24s 16ms/step - loss: 0.1725 - accuracy: 0.9381 - val_loss: 0.2623 - val_accuracy: 0.9118\n",
            "Epoch 8/10\n",
            "1500/1500 [==============================] - 24s 16ms/step - loss: 0.1606 - accuracy: 0.9419 - val_loss: 0.2923 - val_accuracy: 0.9057\n",
            "Epoch 9/10\n",
            "1500/1500 [==============================] - 23s 16ms/step - loss: 0.1485 - accuracy: 0.9459 - val_loss: 0.2816 - val_accuracy: 0.9091\n",
            "Epoch 10/10\n",
            "1500/1500 [==============================] - 25s 17ms/step - loss: 0.1398 - accuracy: 0.9503 - val_loss: 0.2950 - val_accuracy: 0.9103\n"
          ]
        }
      ]
    },
    {
      "cell_type": "markdown",
      "source": [
        "Plot the history and report the training accuracy in the final epoch."
      ],
      "metadata": {
        "id": "U6H_GuzdfJco"
      }
    },
    {
      "cell_type": "code",
      "source": [
        "##TO DO\n",
        "\n",
        "import matplotlib.pyplot as plt\n",
        "\n",
        "# Plot the training history\n",
        "plt.plot(history.history['accuracy'], label='Training Accuracy')\n",
        "plt.plot(history.history['val_accuracy'], label='Validation Accuracy')\n",
        "plt.xlabel('Epochs')\n",
        "plt.ylabel('Accuracy')\n",
        "plt.title('Training and Validation Accuracy')\n",
        "plt.legend()\n",
        "plt.show()\n",
        "\n",
        "# Report the training accuracy in the final epoch\n",
        "final_training_accuracy = history.history['accuracy'][-1]\n",
        "print(\"Training Accuracy in the Final Epoch:\", final_training_accuracy)"
      ],
      "metadata": {
        "id": "oMYJPsEwfKtp",
        "colab": {
          "base_uri": "https://localhost:8080/",
          "height": 490
        },
        "outputId": "47a60beb-3bca-4b4f-c596-9e5dca422bd9"
      },
      "execution_count": 16,
      "outputs": [
        {
          "output_type": "display_data",
          "data": {
            "text/plain": [
              "<Figure size 640x480 with 1 Axes>"
            ],
            "image/png": "[encoded data removed]"
          },
          "metadata": {}
        },
        {
          "output_type": "stream",
          "name": "stdout",
          "text": [
            "Training Accuracy in the Final Epoch: 0.9502916932106018\n"
          ]
        }
      ]
    },
    {
      "cell_type": "markdown",
      "source": [
        "Evaluate the model on the test set. Report the test accuracy."
      ],
      "metadata": {
        "id": "0LCzk-n0faGl"
      }
    },
    {
      "cell_type": "code",
      "source": [
        "##TO DO\n",
        "\n",
        "# Evaluate the model on the test set.\n",
        "test_loss, test_accuracy = model.evaluate(x_test, y_test)\n",
        "\n",
        "# Report the test accuracy.\n",
        "print(\"Test Accuracy:\", test_accuracy)"
      ],
      "metadata": {
        "id": "F1eUHMjxfa9B",
        "colab": {
          "base_uri": "https://localhost:8080/"
        },
        "outputId": "356a283a-1b51-47f9-b1cc-efc6f6abcdde"
      },
      "execution_count": 17,
      "outputs": [
        {
          "output_type": "stream",
          "name": "stdout",
          "text": [
            "313/313 [==============================] - 3s 9ms/step - loss: 0.3098 - accuracy: 0.9033\n",
            "Test Accuracy: 0.9032999873161316\n"
          ]
        }
      ]
    }
  ],
  "metadata": {
    "accelerator": "GPU",
    "colab": {
      "provenance": []
    },
    "kernelspec": {
      "display_name": "Python 3",
      "name": "python3"
    },
    "language_info": {
      "name": "python"
    }
  },
  "nbformat": 4,
  "nbformat_minor": 0
}